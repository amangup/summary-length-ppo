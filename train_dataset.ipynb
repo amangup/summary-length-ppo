{
 "cells": [
  {
   "cell_type": "code",
   "execution_count": 1,
   "id": "a1969099-bab2-46ce-ba2a-58bedcca5b75",
   "metadata": {},
   "outputs": [],
   "source": [
    "from datasets import load_dataset, DatasetDict\n",
    "from transformers import AutoTokenizer\n",
    "\n",
    "import random"
   ]
  },
  {
   "cell_type": "code",
   "execution_count": 2,
   "id": "fcfe6a1b-0705-4823-bbb8-0d3b845c6f26",
   "metadata": {},
   "outputs": [],
   "source": [
    "model_id = \"meta-llama/Llama-3.2-1B-Instruct\""
   ]
  },
  {
   "cell_type": "code",
   "execution_count": 3,
   "id": "36da367b-0ce3-4f26-a977-590bf47815bf",
   "metadata": {},
   "outputs": [],
   "source": [
    "tokenizer = AutoTokenizer.from_pretrained(model_id)\n",
    "tokenizer.pad_token = tokenizer.eos_token"
   ]
  },
  {
   "cell_type": "markdown",
   "id": "4bd86d2e-8532-4c85-8513-e8fca12c8a91",
   "metadata": {},
   "source": [
    "# Train dataset"
   ]
  },
  {
   "cell_type": "markdown",
   "id": "e6d253a5-5057-479c-9ad6-c96da11204be",
   "metadata": {},
   "source": [
    "## Tokenize train data"
   ]
  },
  {
   "cell_type": "code",
   "execution_count": 4,
   "id": "28001896-1540-414f-b636-f1275b621129",
   "metadata": {},
   "outputs": [],
   "source": [
    "summary_prefs_ds = load_dataset('openai/summarize_from_feedback', \n",
    "                                name='comparisons', split='train')"
   ]
  },
  {
   "cell_type": "code",
   "execution_count": 5,
   "id": "2573232f-182b-4931-a0b2-bb033f8bc331",
   "metadata": {},
   "outputs": [],
   "source": [
    "def text_to_messages(info, target_words):\n",
    "    return [\n",
    "        {\"role\": \"system\", \n",
    "         \"content\": f\"Summarize the text using exactly {target_words} words:\"},\n",
    "        {\"role\": \"user\", \n",
    "         \"content\": info['post']}\n",
    "    ]\n",
    "\n",
    "def create_query(text):\n",
    "    target_words = random.choice([13, 21, 34])\n",
    "    prompt = tokenizer.apply_chat_template(text_to_messages(text, target_words), \n",
    "                                           add_generation_prompt=True, \n",
    "                                           tokenize=False)\n",
    "    return {\"query\": prompt}\n",
    "\n",
    "def tokenize(text, max_len=1024):\n",
    "    return {\"tokens\": tokenizer(text, padding=\"max_length\", max_length=max_len,\n",
    "                                return_tensors='pt', padding_side='left')}\n"
   ]
  },
  {
   "cell_type": "code",
   "execution_count": 6,
   "id": "dba5d72f-b0d0-4ef0-a8f4-967f5a5162a6",
   "metadata": {},
   "outputs": [
    {
     "data": {
      "application/vnd.jupyter.widget-view+json": {
       "model_id": "3702d8d65eec4a0c90d6cb8ef209be05",
       "version_major": 2,
       "version_minor": 0
      },
      "text/plain": [
       "Map:   0%|          | 0/1024 [00:00<?, ? examples/s]"
      ]
     },
     "metadata": {},
     "output_type": "display_data"
    },
    {
     "data": {
      "application/vnd.jupyter.widget-view+json": {
       "model_id": "ad1e61a60bda47b98c2c3d89558feb3c",
       "version_major": 2,
       "version_minor": 0
      },
      "text/plain": [
       "Map:   0%|          | 0/256 [00:00<?, ? examples/s]"
      ]
     },
     "metadata": {},
     "output_type": "display_data"
    }
   ],
   "source": [
    "N_TRAIN = 1024\n",
    "N_TEST = 256\n",
    "train_ds = summary_prefs_ds.shuffle(seed=12833).select(range(N_TRAIN)).map(create_query, input_columns=['info'])\n",
    "test_ds = summary_prefs_ds.shuffle(seed=12833).select(range(N_TRAIN, N_TRAIN+N_TEST)).map(create_query, input_columns=['info'])"
   ]
  },
  {
   "cell_type": "code",
   "execution_count": 7,
   "id": "fbf5e4ca-b6b0-40bc-bc36-60f3fe3debf9",
   "metadata": {},
   "outputs": [
    {
     "data": {
      "application/vnd.jupyter.widget-view+json": {
       "model_id": "e4ab98143a0f4fabb4c1df3013dc72e7",
       "version_major": 2,
       "version_minor": 0
      },
      "text/plain": [
       "Map:   0%|          | 0/1024 [00:00<?, ? examples/s]"
      ]
     },
     "metadata": {},
     "output_type": "display_data"
    },
    {
     "data": {
      "application/vnd.jupyter.widget-view+json": {
       "model_id": "529635068af444f0b2ca001424beaec6",
       "version_major": 2,
       "version_minor": 0
      },
      "text/plain": [
       "Map:   0%|          | 0/256 [00:00<?, ? examples/s]"
      ]
     },
     "metadata": {},
     "output_type": "display_data"
    }
   ],
   "source": [
    "train_ds = train_ds.map(tokenize, input_columns=['query'])\n",
    "test_ds = test_ds.map(tokenize, input_columns=['query'])"
   ]
  },
  {
   "cell_type": "code",
   "execution_count": 8,
   "id": "73d4cc86-6ed5-4189-9036-f2ec6b35d2cf",
   "metadata": {},
   "outputs": [
    {
     "data": {
      "application/vnd.jupyter.widget-view+json": {
       "model_id": "a9a0777da8834302bc343deb699e8ddf",
       "version_major": 2,
       "version_minor": 0
      },
      "text/plain": [
       "Uploading the dataset shards:   0%|          | 0/1 [00:00<?, ?it/s]"
      ]
     },
     "metadata": {},
     "output_type": "display_data"
    },
    {
     "data": {
      "application/vnd.jupyter.widget-view+json": {
       "model_id": "bcf7daae22af46deb71c8084774d2557",
       "version_major": 2,
       "version_minor": 0
      },
      "text/plain": [
       "Creating parquet from Arrow format:   0%|          | 0/2 [00:00<?, ?ba/s]"
      ]
     },
     "metadata": {},
     "output_type": "display_data"
    },
    {
     "data": {
      "application/vnd.jupyter.widget-view+json": {
       "model_id": "338a27acfedd4562b12b43f80adfb877",
       "version_major": 2,
       "version_minor": 0
      },
      "text/plain": [
       "Uploading the dataset shards:   0%|          | 0/1 [00:00<?, ?it/s]"
      ]
     },
     "metadata": {},
     "output_type": "display_data"
    },
    {
     "data": {
      "application/vnd.jupyter.widget-view+json": {
       "model_id": "f1bbf6b1fd0e4318912f900354f3edf6",
       "version_major": 2,
       "version_minor": 0
      },
      "text/plain": [
       "Creating parquet from Arrow format:   0%|          | 0/1 [00:00<?, ?ba/s]"
      ]
     },
     "metadata": {},
     "output_type": "display_data"
    },
    {
     "data": {
      "text/plain": [
       "CommitInfo(commit_url='https://huggingface.co/datasets/amang1802/summary_train/commit/5745ae2778a4fae5b18d0b97221e15c26cc1f2d3', commit_message='Upload dataset', commit_description='', oid='5745ae2778a4fae5b18d0b97221e15c26cc1f2d3', pr_url=None, repo_url=RepoUrl('https://huggingface.co/datasets/amang1802/summary_train', endpoint='https://huggingface.co', repo_type='dataset', repo_id='amang1802/summary_train'), pr_revision=None, pr_num=None)"
      ]
     },
     "execution_count": 8,
     "metadata": {},
     "output_type": "execute_result"
    }
   ],
   "source": [
    "summary_train_ds = DatasetDict({\"train\": train_ds, \"test\": test_ds})\n",
    "summary_train_ds.push_to_hub('summary_train')"
   ]
  }
 ],
 "metadata": {
  "kernelspec": {
   "display_name": "Python 3 (ipykernel)",
   "language": "python",
   "name": "python3"
  },
  "language_info": {
   "codemirror_mode": {
    "name": "ipython",
    "version": 3
   },
   "file_extension": ".py",
   "mimetype": "text/x-python",
   "name": "python",
   "nbconvert_exporter": "python",
   "pygments_lexer": "ipython3",
   "version": "3.11.10"
  }
 },
 "nbformat": 4,
 "nbformat_minor": 5
}
