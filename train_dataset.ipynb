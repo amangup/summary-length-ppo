{
 "cells": [
  {
   "cell_type": "code",
   "execution_count": 1,
   "id": "a1969099-bab2-46ce-ba2a-58bedcca5b75",
   "metadata": {},
   "outputs": [],
   "source": [
    "from datasets import load_dataset, DatasetDict\n",
    "from transformers import AutoTokenizer\n",
    "\n",
    "import random"
   ]
  },
  {
   "cell_type": "code",
   "execution_count": 2,
   "id": "fcfe6a1b-0705-4823-bbb8-0d3b845c6f26",
   "metadata": {},
   "outputs": [],
   "source": [
    "model_id = \"meta-llama/Llama-3.2-1B-Instruct\""
   ]
  },
  {
   "cell_type": "code",
   "execution_count": 3,
   "id": "36da367b-0ce3-4f26-a977-590bf47815bf",
   "metadata": {},
   "outputs": [],
   "source": [
    "tokenizer = AutoTokenizer.from_pretrained(model_id)\n",
    "tokenizer.pad_token = tokenizer.eos_token"
   ]
  },
  {
   "cell_type": "markdown",
   "id": "4bd86d2e-8532-4c85-8513-e8fca12c8a91",
   "metadata": {},
   "source": [
    "# Train dataset"
   ]
  },
  {
   "cell_type": "markdown",
   "id": "e6d253a5-5057-479c-9ad6-c96da11204be",
   "metadata": {},
   "source": [
    "## Tokenize train data"
   ]
  },
  {
   "cell_type": "code",
   "execution_count": 4,
   "id": "28001896-1540-414f-b636-f1275b621129",
   "metadata": {},
   "outputs": [
    {
     "data": {
      "application/vnd.jupyter.widget-view+json": {
       "model_id": "2aaf72add9ad46b9b61827e63f0fbd1f",
       "version_major": 2,
       "version_minor": 0
      },
      "text/plain": [
       "README.md:   0%|          | 0.00/1.61k [00:00<?, ?B/s]"
      ]
     },
     "metadata": {},
     "output_type": "display_data"
    },
    {
     "data": {
      "application/vnd.jupyter.widget-view+json": {
       "model_id": "4dfafaec50fe4b878aa464b2eb81be30",
       "version_major": 2,
       "version_minor": 0
      },
      "text/plain": [
       "summarize_from_feedback.py:   0%|          | 0.00/9.38k [00:00<?, ?B/s]"
      ]
     },
     "metadata": {},
     "output_type": "display_data"
    },
    {
     "data": {
      "application/vnd.jupyter.widget-view+json": {
       "model_id": "98b03f157d604ec191bcf19e786fde59",
       "version_major": 2,
       "version_minor": 0
      },
      "text/plain": [
       "0000.parquet:   0%|          | 0.00/21.1M [00:00<?, ?B/s]"
      ]
     },
     "metadata": {},
     "output_type": "display_data"
    },
    {
     "data": {
      "application/vnd.jupyter.widget-view+json": {
       "model_id": "894a8bb447e34604b31fa5a7729e461e",
       "version_major": 2,
       "version_minor": 0
      },
      "text/plain": [
       "0000.parquet:   0%|          | 0.00/22.8M [00:00<?, ?B/s]"
      ]
     },
     "metadata": {},
     "output_type": "display_data"
    },
    {
     "data": {
      "application/vnd.jupyter.widget-view+json": {
       "model_id": "71e6d92766d1403382f1c02deb09c529",
       "version_major": 2,
       "version_minor": 0
      },
      "text/plain": [
       "Generating train split:   0%|          | 0/92858 [00:00<?, ? examples/s]"
      ]
     },
     "metadata": {},
     "output_type": "display_data"
    },
    {
     "data": {
      "application/vnd.jupyter.widget-view+json": {
       "model_id": "93bf1f605d974582b3b4898d056973b9",
       "version_major": 2,
       "version_minor": 0
      },
      "text/plain": [
       "Generating validation split:   0%|          | 0/86086 [00:00<?, ? examples/s]"
      ]
     },
     "metadata": {},
     "output_type": "display_data"
    }
   ],
   "source": [
    "summary_prefs_ds = load_dataset('openai/summarize_from_feedback', \n",
    "                                name='comparisons', split='train')"
   ]
  },
  {
   "cell_type": "code",
   "execution_count": 5,
   "id": "2573232f-182b-4931-a0b2-bb033f8bc331",
   "metadata": {},
   "outputs": [],
   "source": [
    "def text_to_messages(info, target_words):\n",
    "    return [\n",
    "        {\"role\": \"system\", \n",
    "         \"content\": f\"Summarize the text using exactly {target_words} words:\"},\n",
    "        {\"role\": \"user\", \n",
    "         \"content\": info['post']}\n",
    "    ]\n",
    "\n",
    "def create_query(text):\n",
    "    target_words = random.choice([13, 21, 34])\n",
    "    prompt = tokenizer.apply_chat_template(text_to_messages(text, target_words), \n",
    "                                           add_generation_prompt=True, \n",
    "                                           tokenize=False)\n",
    "    return {\"query\": prompt}\n",
    "\n",
    "def tokenize(text, max_len=1024):\n",
    "    return {\"tokens\": tokenizer(text, padding=\"max_length\", max_length=max_len,\n",
    "                                return_tensors='pt', padding_side='left')}\n"
   ]
  },
  {
   "cell_type": "code",
   "execution_count": 6,
   "id": "dba5d72f-b0d0-4ef0-a8f4-967f5a5162a6",
   "metadata": {},
   "outputs": [
    {
     "data": {
      "application/vnd.jupyter.widget-view+json": {
       "model_id": "11bebb11838c4e11a95f0dd30127230a",
       "version_major": 2,
       "version_minor": 0
      },
      "text/plain": [
       "Map:   0%|          | 0/16384 [00:00<?, ? examples/s]"
      ]
     },
     "metadata": {},
     "output_type": "display_data"
    },
    {
     "data": {
      "application/vnd.jupyter.widget-view+json": {
       "model_id": "2dcd3598c0144450853540862a7cb746",
       "version_major": 2,
       "version_minor": 0
      },
      "text/plain": [
       "Map:   0%|          | 0/4096 [00:00<?, ? examples/s]"
      ]
     },
     "metadata": {},
     "output_type": "display_data"
    }
   ],
   "source": [
    "N_TRAIN = 1024*16\n",
    "N_TEST = 256*16\n",
    "train_ds = summary_prefs_ds.shuffle(seed=12833).select(range(N_TRAIN)).map(create_query, input_columns=['info'])\n",
    "test_ds = summary_prefs_ds.shuffle(seed=12833).select(range(N_TRAIN, N_TRAIN+N_TEST)).map(create_query, input_columns=['info'])"
   ]
  },
  {
   "cell_type": "code",
   "execution_count": 7,
   "id": "fbf5e4ca-b6b0-40bc-bc36-60f3fe3debf9",
   "metadata": {},
   "outputs": [
    {
     "data": {
      "application/vnd.jupyter.widget-view+json": {
       "model_id": "207ec1957a884cd7aef7fd59767ce65e",
       "version_major": 2,
       "version_minor": 0
      },
      "text/plain": [
       "Map:   0%|          | 0/16384 [00:00<?, ? examples/s]"
      ]
     },
     "metadata": {},
     "output_type": "display_data"
    },
    {
     "data": {
      "application/vnd.jupyter.widget-view+json": {
       "model_id": "f4ae7e9f3c584ca9abd9fd43f4f10ce0",
       "version_major": 2,
       "version_minor": 0
      },
      "text/plain": [
       "Map:   0%|          | 0/4096 [00:00<?, ? examples/s]"
      ]
     },
     "metadata": {},
     "output_type": "display_data"
    }
   ],
   "source": [
    "train_ds = train_ds.map(tokenize, input_columns=['query'])\n",
    "test_ds = test_ds.map(tokenize, input_columns=['query'])"
   ]
  },
  {
   "cell_type": "code",
   "execution_count": 8,
   "id": "73d4cc86-6ed5-4189-9036-f2ec6b35d2cf",
   "metadata": {},
   "outputs": [
    {
     "data": {
      "application/vnd.jupyter.widget-view+json": {
       "model_id": "177a533a5e3c4b5da670e9de895de78b",
       "version_major": 2,
       "version_minor": 0
      },
      "text/plain": [
       "Uploading the dataset shards:   0%|          | 0/1 [00:00<?, ?it/s]"
      ]
     },
     "metadata": {},
     "output_type": "display_data"
    },
    {
     "data": {
      "application/vnd.jupyter.widget-view+json": {
       "model_id": "24ce57d75b634f0685bb7690a2689f42",
       "version_major": 2,
       "version_minor": 0
      },
      "text/plain": [
       "Creating parquet from Arrow format:   0%|          | 0/17 [00:00<?, ?ba/s]"
      ]
     },
     "metadata": {},
     "output_type": "display_data"
    },
    {
     "data": {
      "application/vnd.jupyter.widget-view+json": {
       "model_id": "88aff6fa66694bfaac5d5003d97385ee",
       "version_major": 2,
       "version_minor": 0
      },
      "text/plain": [
       "Uploading the dataset shards:   0%|          | 0/1 [00:00<?, ?it/s]"
      ]
     },
     "metadata": {},
     "output_type": "display_data"
    },
    {
     "data": {
      "application/vnd.jupyter.widget-view+json": {
       "model_id": "88809f87cbad4296ba6e7c2ca52ba72a",
       "version_major": 2,
       "version_minor": 0
      },
      "text/plain": [
       "Creating parquet from Arrow format:   0%|          | 0/5 [00:00<?, ?ba/s]"
      ]
     },
     "metadata": {},
     "output_type": "display_data"
    },
    {
     "data": {
      "text/plain": [
       "CommitInfo(commit_url='https://huggingface.co/datasets/amang1802/summary_train_med/commit/4698e08da1ae7a76034f77b83c8e28f0c5e7d6d1', commit_message='Upload dataset', commit_description='', oid='4698e08da1ae7a76034f77b83c8e28f0c5e7d6d1', pr_url=None, repo_url=RepoUrl('https://huggingface.co/datasets/amang1802/summary_train_med', endpoint='https://huggingface.co', repo_type='dataset', repo_id='amang1802/summary_train_med'), pr_revision=None, pr_num=None)"
      ]
     },
     "execution_count": 8,
     "metadata": {},
     "output_type": "execute_result"
    }
   ],
   "source": [
    "summary_train_ds = DatasetDict({\"train\": train_ds, \"test\": test_ds})\n",
    "summary_train_ds.push_to_hub('summary_train_med')"
   ]
  },
  {
   "cell_type": "code",
   "execution_count": null,
   "id": "00464761-6056-4dff-b4e1-e3cf9c1c8735",
   "metadata": {},
   "outputs": [],
   "source": []
  }
 ],
 "metadata": {
  "kernelspec": {
   "display_name": "Python 3 (ipykernel)",
   "language": "python",
   "name": "python3"
  },
  "language_info": {
   "codemirror_mode": {
    "name": "ipython",
    "version": 3
   },
   "file_extension": ".py",
   "mimetype": "text/x-python",
   "name": "python",
   "nbconvert_exporter": "python",
   "pygments_lexer": "ipython3",
   "version": "3.10.12"
  }
 },
 "nbformat": 4,
 "nbformat_minor": 5
}
