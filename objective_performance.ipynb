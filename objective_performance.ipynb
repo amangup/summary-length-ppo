{
 "cells": [
  {
   "cell_type": "code",
   "execution_count": 1,
   "id": "d9f919c9-5338-4742-99b0-1f15268c7053",
   "metadata": {},
   "outputs": [],
   "source": [
    "from datasets import load_dataset\n",
    "from transformers import AutoTokenizer\n",
    "from vllm import LLM, SamplingParams\n",
    "\n",
    "import numpy as np\n",
    "\n",
    "import spacy\n",
    "nlp = spacy.load(\"en_core_web_sm\")\n",
    "\n",
    "import pandas as pd\n",
    "pd.set_option('display.max_colwidth', None)\n",
    "\n",
    "import matplotlib.pyplot as plt\n",
    "%matplotlib inline"
   ]
  },
  {
   "cell_type": "code",
   "execution_count": 2,
   "id": "bcbee639-9022-49f0-a2cd-784fba999ef3",
   "metadata": {},
   "outputs": [],
   "source": [
    "summary_prefs_ds = load_dataset('amang1802/summary_train')['test']"
   ]
  },
  {
   "cell_type": "code",
   "execution_count": 3,
   "id": "c31c5b2d-adcc-42ce-8678-8a0a38c63f13",
   "metadata": {},
   "outputs": [
    {
     "data": {
      "text/plain": [
       "Dataset({\n",
       "    features: ['info', 'summaries', 'choice', 'worker', 'batch', 'split', 'extra', 'query', 'tokens', 'generated_tokens', 'reward'],\n",
       "    num_rows: 256\n",
       "})"
      ]
     },
     "execution_count": 3,
     "metadata": {},
     "output_type": "execute_result"
    }
   ],
   "source": [
    "summary_prefs_ds"
   ]
  },
  {
   "cell_type": "code",
   "execution_count": 4,
   "id": "e10a4cde-85a4-407c-ad2f-3e707e5941b2",
   "metadata": {},
   "outputs": [],
   "source": [
    "def df_from_id(i):\n",
    "    text = summary_prefs_ds[i]['info']['post']\n",
    "    choice = summary_prefs_ds[i]['choice']\n",
    "    chosen = summary_prefs_ds[i]['summaries'][choice]['text']\n",
    "    rejected = summary_prefs_ds[i]['summaries'][1-choice]['text']\n",
    "    return pd.DataFrame({\"text\": [text], \"chosen\": [chosen], \"rejected\": [rejected]})"
   ]
  },
  {
   "cell_type": "code",
   "execution_count": 5,
   "id": "f2f7e561-27b4-486c-9df0-0bc675dbbbfa",
   "metadata": {},
   "outputs": [
    {
     "data": {
      "text/html": [
       "<div>\n",
       "<style scoped>\n",
       "    .dataframe tbody tr th:only-of-type {\n",
       "        vertical-align: middle;\n",
       "    }\n",
       "\n",
       "    .dataframe tbody tr th {\n",
       "        vertical-align: top;\n",
       "    }\n",
       "\n",
       "    .dataframe thead th {\n",
       "        text-align: right;\n",
       "    }\n",
       "</style>\n",
       "<table border=\"1\" class=\"dataframe\">\n",
       "  <thead>\n",
       "    <tr style=\"text-align: right;\">\n",
       "      <th></th>\n",
       "      <th>text</th>\n",
       "      <th>chosen</th>\n",
       "      <th>rejected</th>\n",
       "    </tr>\n",
       "  </thead>\n",
       "  <tbody>\n",
       "    <tr>\n",
       "      <th>0</th>\n",
       "      <td>I've been on and off with this girl for the past 8 months. She lived with her ex boyfriend but insisted that the were broken up and she didn't want to be with him.  He moved away from her 3 months ago and we've been casually seeing each other and having sex. \\n\\nThis weekend I went on a vacation with her and friends and found out that the ex had her listed as in a relationship on Facebook. When I found this out I messaged the ex and told him of all the times we had sex. I took screen shots of our conversation and told her to never talk to me again. She's since blocked me on Facebook and won't reply to my texts even though she agreed to talk to me about it. \\n\\nShe was a major part of my support system and I haven't been able to sleep well for 3 days. Does anyone have any advise how to break free from this depression?</td>\n",
       "      <td>found out she was cheating on me messaged ex with proof that we've been seeing each other, now I'm depressed and need advise.</td>\n",
       "      <td>I'm super depressed and can't get a break from the relationship.</td>\n",
       "    </tr>\n",
       "  </tbody>\n",
       "</table>\n",
       "</div>"
      ],
      "text/plain": [
       "                                                                                                                                                                                                                                                                                                                                                                                                                                                                                                                                                                                                                                                                                                                                                                                                                                                           text  \\\n",
       "0  I've been on and off with this girl for the past 8 months. She lived with her ex boyfriend but insisted that the were broken up and she didn't want to be with him.  He moved away from her 3 months ago and we've been casually seeing each other and having sex. \\n\\nThis weekend I went on a vacation with her and friends and found out that the ex had her listed as in a relationship on Facebook. When I found this out I messaged the ex and told him of all the times we had sex. I took screen shots of our conversation and told her to never talk to me again. She's since blocked me on Facebook and won't reply to my texts even though she agreed to talk to me about it. \\n\\nShe was a major part of my support system and I haven't been able to sleep well for 3 days. Does anyone have any advise how to break free from this depression?   \n",
       "\n",
       "                                                                                                                           chosen  \\\n",
       "0   found out she was cheating on me messaged ex with proof that we've been seeing each other, now I'm depressed and need advise.   \n",
       "\n",
       "                                                            rejected  \n",
       "0   I'm super depressed and can't get a break from the relationship.  "
      ]
     },
     "execution_count": 5,
     "metadata": {},
     "output_type": "execute_result"
    }
   ],
   "source": [
    "df_from_id(140)"
   ]
  },
  {
   "cell_type": "markdown",
   "id": "dc43c263-9414-4cca-9c03-ab99fc1dd844",
   "metadata": {},
   "source": [
    "### What's the expected summary length?\n",
    "\n",
    "Let's analyze the distribution of lengths of the chosen summaries"
   ]
  },
  {
   "cell_type": "code",
   "execution_count": 6,
   "id": "7b2d4c33-56f3-498e-b49e-96f3e6a4f3bd",
   "metadata": {},
   "outputs": [],
   "source": [
    "def word_count(text):\n",
    "    doc = nlp(text)\n",
    "    return sum(1 for token in doc if token.is_alpha)"
   ]
  },
  {
   "cell_type": "code",
   "execution_count": 7,
   "id": "3f5ce7b5-7058-44b6-aacb-1c371d493bdf",
   "metadata": {},
   "outputs": [],
   "source": [
    "def word_count_chosen(row):\n",
    "    choice = row['choice']\n",
    "    chosen = row['summaries'][choice]['text']\n",
    "    return {\"word_count_chosen\": word_count(chosen)}"
   ]
  },
  {
   "cell_type": "code",
   "execution_count": 8,
   "id": "ddc76951-1fe0-4e40-919a-e7f3bab9b14a",
   "metadata": {},
   "outputs": [],
   "source": [
    "summary_lengths_subset = summary_prefs_ds.map(word_count_chosen)"
   ]
  },
  {
   "cell_type": "code",
   "execution_count": 9,
   "id": "9edc5dfa-5594-42bb-93b6-68b3a00b5c89",
   "metadata": {},
   "outputs": [
    {
     "name": "stdout",
     "output_type": "stream",
     "text": [
      "Mean:  26.61328125\n",
      "Std Dev:  10.508314201545291\n"
     ]
    }
   ],
   "source": [
    "summary_lengths = np.array(summary_lengths_subset['word_count_chosen'])\n",
    "print(\"Mean: \", summary_lengths.mean())\n",
    "print(\"Std Dev: \", summary_lengths.std())"
   ]
  },
  {
   "cell_type": "code",
   "execution_count": 10,
   "id": "603f62fb-39d5-4b3b-9338-f55f0cfc70e8",
   "metadata": {},
   "outputs": [
    {
     "data": {
      "text/plain": [
       "(array([14., 18., 45., 35., 30., 48., 24.,  7., 11.,  6.,  3.,  7.,  2.,\n",
       "         1.,  1.,  0.,  3.,  0.,  0.,  1.]),\n",
       " array([10.  , 13.35, 16.7 , 20.05, 23.4 , 26.75, 30.1 , 33.45, 36.8 ,\n",
       "        40.15, 43.5 , 46.85, 50.2 , 53.55, 56.9 , 60.25, 63.6 , 66.95,\n",
       "        70.3 , 73.65, 77.  ]),\n",
       " <BarContainer object of 20 artists>)"
      ]
     },
     "execution_count": 10,
     "metadata": {},
     "output_type": "execute_result"
    },
    {
     "data": {
      "image/png": "[encoded data removed]",
      "text/plain": [
       "<Figure size 640x480 with 1 Axes>"
      ]
     },
     "metadata": {},
     "output_type": "display_data"
    }
   ],
   "source": [
    "plt.hist(summary_lengths, color='lightblue', ec='black', bins=20)"
   ]
  },
  {
   "cell_type": "markdown",
   "id": "64c4a37f-c0e0-4161-8356-295fc067e368",
   "metadata": {},
   "source": [
    "### Model generated summary length distribution"
   ]
  },
  {
   "cell_type": "code",
   "execution_count": 11,
   "id": "c0e15dd8-ebf4-4c51-8637-dd4961348fe7",
   "metadata": {},
   "outputs": [],
   "source": [
    "model_id = \"amang1802/Llama3.2-1B-summary-length-exp5\""
   ]
  },
  {
   "cell_type": "code",
   "execution_count": 12,
   "id": "08549421-e964-495a-9eb3-1f37463c9272",
   "metadata": {},
   "outputs": [
    {
     "name": "stdout",
     "output_type": "stream",
     "text": [
      "INFO 11-21 00:19:50 llm_engine.py:237] Initializing an LLM engine (v0.6.3.post1) with config: model='amang1802/Llama3.2-1B-summary-length-exp5', speculative_config=None, tokenizer='amang1802/Llama3.2-1B-summary-length-exp5', skip_tokenizer_init=False, tokenizer_mode=auto, revision=None, override_neuron_config=None, rope_scaling=None, rope_theta=None, tokenizer_revision=None, trust_remote_code=False, dtype=torch.bfloat16, max_seq_len=4096, download_dir=None, load_format=LoadFormat.AUTO, tensor_parallel_size=1, pipeline_parallel_size=1, disable_custom_all_reduce=False, quantization=None, enforce_eager=False, kv_cache_dtype=auto, quantization_param_path=None, device_config=cuda, decoding_config=DecodingConfig(guided_decoding_backend='outlines'), observability_config=ObservabilityConfig(otlp_traces_endpoint=None, collect_model_forward_time=False, collect_model_execute_time=False), seed=0, served_model_name=amang1802/Llama3.2-1B-summary-length-exp5, num_scheduler_steps=1, chunked_prefill_enabled=False multi_step_stream_outputs=True, enable_prefix_caching=False, use_async_output_proc=True, use_cached_outputs=False, mm_processor_kwargs=None)\n",
      "INFO 11-21 00:19:50 model_runner.py:1056] Starting to load model amang1802/Llama3.2-1B-summary-length-exp5...\n",
      "INFO 11-21 00:19:51 weight_utils.py:243] Using model weights format ['*.safetensors']\n",
      "INFO 11-21 00:19:51 weight_utils.py:288] No model.safetensors.index.json found in remote.\n"
     ]
    },
    {
     "data": {
      "application/vnd.jupyter.widget-view+json": {
       "model_id": "b0c1456795f24237b2e874d9915a5373",
       "version_major": 2,
       "version_minor": 0
      },
      "text/plain": [
       "Loading safetensors checkpoint shards:   0% Completed | 0/1 [00:00<?, ?it/s]\n"
      ]
     },
     "metadata": {},
     "output_type": "display_data"
    },
    {
     "name": "stdout",
     "output_type": "stream",
     "text": [
      "INFO 11-21 00:19:51 model_runner.py:1067] Loading model weights took 2.3185 GB\n",
      "INFO 11-21 00:19:52 gpu_executor.py:122] # GPU blocks: 36191, # CPU blocks: 8192\n",
      "INFO 11-21 00:19:52 gpu_executor.py:126] Maximum concurrency for 4096 tokens per request: 141.37x\n",
      "INFO 11-21 00:19:54 model_runner.py:1395] Capturing the model for CUDA graphs. This may lead to unexpected consequences if the model is not static. To run the model in eager mode, set 'enforce_eager=True' or use '--enforce-eager' in the CLI.\n",
      "INFO 11-21 00:19:54 model_runner.py:1399] CUDA graphs can take additional 1~3 GiB memory per GPU. If you are running out of memory, consider decreasing `gpu_memory_utilization` or enforcing eager mode. You can also reduce the `max_num_seqs` as needed to decrease memory usage.\n",
      "INFO 11-21 00:20:02 model_runner.py:1523] Graph capturing finished in 9 secs.\n"
     ]
    }
   ],
   "source": [
    "tokenizer = AutoTokenizer.from_pretrained(model_id)\n",
    "llm = LLM(model=model_id, max_model_len=4096)"
   ]
  },
  {
   "cell_type": "code",
   "execution_count": 13,
   "id": "ab314705-939a-42e3-a1ab-e7a303c12465",
   "metadata": {},
   "outputs": [],
   "source": [
    "def text_to_messages(info, target_words):\n",
    "    return [\n",
    "        {\"role\": \"system\", \"content\": f\"Summarize the text using exactly {target_words} words:\"},\n",
    "        {\"role\": \"user\", \"content\": info['post']}\n",
    "    ]\n",
    "    \n",
    "def summarize_batch(batch, llm, tokenizer, target_words):\n",
    "    prompts = [tokenizer.apply_chat_template(text_to_messages(text, target_words), add_generation_prompt=True, tokenize=False)\n",
    "               for text in batch]\n",
    "    sampling_params = SamplingParams(temperature=0.25, max_tokens=128)\n",
    "    outputs = llm.generate(prompts, sampling_params)\n",
    "\n",
    "    return {\"llm_summary\": [output.outputs[0].text.strip() for output in outputs]}"
   ]
  },
  {
   "cell_type": "code",
   "execution_count": 14,
   "id": "20966e8d-652d-47dc-b274-c4a650723085",
   "metadata": {},
   "outputs": [
    {
     "name": "stderr",
     "output_type": "stream",
     "text": [
      "Parameter 'function'=<function <lambda> at 0x7f80e475cfe0> of the transform datasets.arrow_dataset.Dataset._map_single couldn't be hashed properly, a random hash was used instead. Make sure your transforms and parameters are serializable with pickle or dill for the dataset fingerprinting and caching to work. If you reuse this transform, the caching mechanism will consider it to be different from the previous calls and recompute everything. This warning is only showed once. Subsequent hashing failures won't be showed.\n"
     ]
    },
    {
     "data": {
      "application/vnd.jupyter.widget-view+json": {
       "model_id": "4609c611ac794367a9faac4e98a75f1f",
       "version_major": 2,
       "version_minor": 0
      },
      "text/plain": [
       "Map:   0%|          | 0/256 [00:00<?, ? examples/s]"
      ]
     },
     "metadata": {},
     "output_type": "display_data"
    },
    {
     "name": "stderr",
     "output_type": "stream",
     "text": [
      "\n",
      "Processed prompts:   0%|         | 0/256 [00:00<?, ?it/s, est. speed input: 0.00 toks/s, output: 0.00 toks/s]\u001b[A\n",
      "Processed prompts:   0%| | 1/256 [00:03<13:27,  3.17s/it, est. speed input: 55.88 toks/s, output: 2.53 toks/s\u001b[A\n",
      "Processed prompts:   2%| | 6/256 [00:03<01:46,  2.35it/s, est. speed input: 524.02 toks/s, output: 17.17 toks\u001b[A\n",
      "Processed prompts:   6%| | 15/256 [00:03<00:33,  7.14it/s, est. speed input: 1322.31 toks/s, output: 64.90 to\u001b[A\n",
      "Processed prompts:  12%| | 30/256 [00:03<00:12, 17.46it/s, est. speed input: 2583.45 toks/s, output: 158.71 t\u001b[A\n",
      "Processed prompts:  27%|▎| 70/256 [00:03<00:03, 52.45it/s, est. speed input: 6178.39 toks/s, output: 445.96 t\u001b[A\n",
      "Processed prompts:  64%|▋| 165/256 [00:03<00:00, 156.04it/s, est. speed input: 14503.40 toks/s, output: 1262.\u001b[A\n",
      "Processed prompts: 100%|█| 256/256 [00:04<00:00, 58.81it/s, est. speed input: 20066.83 toks/s, output: 2193.6\u001b[A\n"
     ]
    }
   ],
   "source": [
    "gen_summaries = summary_lengths_subset.map(lambda batch: summarize_batch(batch, llm, tokenizer, 31),\n",
    "                                           input_columns=['info'],\n",
    "                                           batched=True,\n",
    "                                           batch_size=256)"
   ]
  },
  {
   "cell_type": "code",
   "execution_count": 15,
   "id": "267a541b-74fc-422a-827d-b2297ec53e17",
   "metadata": {},
   "outputs": [
    {
     "data": {
      "text/plain": [
       "[\"You're concerned about your friend's behavior, feeling uncomfortable with his skewed views on sex, and want to confront him.\",\n",
       " \"The writer is unsure how to interpret the woman's openness, wondering if she's trying to be one of the guys or if she's genuinely interested in exploring a romantic or sexual connection.\",\n",
       " \"You're feeling guilty about missing your mom's party, worried about being awkward, and unsure about attending your first party.\",\n",
       " 'Repeated calls from a patient at a special needs institute, breathing for 2 seconds, with no response, leaving frustration and a sense of helplessness, despite efforts to block numbers.',\n",
       " \"The girlfriend's comment about IV TAs raises concerns about her intentions, potentially hinting she's drunk and seeking physical intimacy.\"]"
      ]
     },
     "execution_count": 15,
     "metadata": {},
     "output_type": "execute_result"
    }
   ],
   "source": [
    "gen_summaries['llm_summary'][:5]"
   ]
  },
  {
   "cell_type": "code",
   "execution_count": 16,
   "id": "35ebc2ce-d6ae-4afc-805e-713773526288",
   "metadata": {},
   "outputs": [],
   "source": [
    "def word_count_text(text, name):\n",
    "    return {f\"word_count_{name}\": word_count(text)}"
   ]
  },
  {
   "cell_type": "code",
   "execution_count": 17,
   "id": "00a9b3fa-cefb-4898-a1c9-e69840ef8512",
   "metadata": {},
   "outputs": [
    {
     "data": {
      "application/vnd.jupyter.widget-view+json": {
       "model_id": "f7fd06c88ac84f1b9bfc0784f79cb4d4",
       "version_major": 2,
       "version_minor": 0
      },
      "text/plain": [
       "Map:   0%|          | 0/256 [00:00<?, ? examples/s]"
      ]
     },
     "metadata": {},
     "output_type": "display_data"
    }
   ],
   "source": [
    "gen_summaries = gen_summaries.map(lambda text: word_count_text(text, \"llama-1b-31\"), input_columns=['llm_summary'])"
   ]
  },
  {
   "cell_type": "code",
   "execution_count": 18,
   "id": "0d2bbeba-0582-438d-bc9f-00c156b32641",
   "metadata": {},
   "outputs": [
    {
     "name": "stdout",
     "output_type": "stream",
     "text": [
      "Mean:  28.80859375\n",
      "Std Dev:  13.597107501136444\n"
     ]
    }
   ],
   "source": [
    "summary_lengths = np.array(gen_summaries['word_count_llama-1b-31'])\n",
    "print(\"Mean: \", summary_lengths.mean())\n",
    "print(\"Std Dev: \", summary_lengths.std())"
   ]
  },
  {
   "cell_type": "code",
   "execution_count": 19,
   "id": "f4a879eb-8b8d-43ea-8881-1c6dd086ae1a",
   "metadata": {},
   "outputs": [
    {
     "data": {
      "text/plain": [
       "(array([ 5.,  6., 27., 38., 84., 47., 22.,  7.,  6.,  5.,  0.,  0.,  0.,\n",
       "         2.,  0.,  1.,  0.,  1.,  3.,  2.]),\n",
       " array([  5.  ,   9.75,  14.5 ,  19.25,  24.  ,  28.75,  33.5 ,  38.25,\n",
       "         43.  ,  47.75,  52.5 ,  57.25,  62.  ,  66.75,  71.5 ,  76.25,\n",
       "         81.  ,  85.75,  90.5 ,  95.25, 100.  ]),\n",
       " <BarContainer object of 20 artists>)"
      ]
     },
     "execution_count": 19,
     "metadata": {},
     "output_type": "execute_result"
    },
    {
     "data": {
      "image/png": "[encoded data removed]",
      "text/plain": [
       "<Figure size 640x480 with 1 Axes>"
      ]
     },
     "metadata": {},
     "output_type": "display_data"
    }
   ],
   "source": [
    "plt.hist(summary_lengths, color='lightblue', ec='black', bins=20)"
   ]
  },
  {
   "cell_type": "code",
   "execution_count": null,
   "id": "f22c6c4e-3cec-4a16-8832-2e1f5d1e7421",
   "metadata": {},
   "outputs": [],
   "source": []
  }
 ],
 "metadata": {
  "kernelspec": {
   "display_name": "Python 3 (ipykernel)",
   "language": "python",
   "name": "python3"
  },
  "language_info": {
   "codemirror_mode": {
    "name": "ipython",
    "version": 3
   },
   "file_extension": ".py",
   "mimetype": "text/x-python",
   "name": "python",
   "nbconvert_exporter": "python",
   "pygments_lexer": "ipython3",
   "version": "3.11.10"
  }
 },
 "nbformat": 4,
 "nbformat_minor": 5
}
